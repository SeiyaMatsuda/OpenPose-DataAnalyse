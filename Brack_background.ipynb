{
 "cells": [
  {
   "cell_type": "code",
   "execution_count": 3,
   "metadata": {},
   "outputs": [
    {
     "name": "stdout",
     "output_type": "stream",
     "text": [
      "ファイルのパスを入力\"D:\\Users\\Matsuda\\MMD\\openpose-build\\x64\\examples\\卒業研究実験\\実験用動画\\data\\4m;5.52m\\4m5.52m_000000000002_keypoints.json\"\n",
      "4\n",
      "No1またはNo2No2\n"
     ]
    },
    {
     "data": {
      "text/plain": [
       "<matplotlib.image.AxesImage at 0x1ba9f6ccfc8>"
      ]
     },
     "execution_count": 3,
     "metadata": {},
     "output_type": "execute_result"
    },
    {
     "name": "stderr",
     "output_type": "stream",
     "text": [
      "findfont: Font family ['IPAexGothic'] not found. Falling back to DejaVu Sans.\n"
     ]
    },
    {
     "data": {
      "image/png": "[encoded data removed]",
      "text/plain": [
       "<Figure size 432x288 with 1 Axes>"
      ]
     },
     "metadata": {
      "needs_background": "light"
     },
     "output_type": "display_data"
    }
   ],
   "source": [
    "import json\n",
    "import numpy as np\n",
    "import cv2\n",
    "import matplotlib.pyplot as plt\n",
    "%matplotlib inline\n",
    "# jsonのロード\n",
    "file_path=input(\"ファイルのパスを入力\").strip(\"\\\"\")\n",
    "with open(file_path, 'r') as f:\n",
    "    data = json.load(f)\n",
    "    #人数を出力\n",
    "    print(len(data['people']))\n",
    "#動画のサイズを読み込む\n",
    "size={\"No1\":(2160,3840,16),\"No2\":(320,568,4)}\n",
    "d_number=input(\"No1またはNo2\")\n",
    "length=size[d_number][0]\n",
    "width=size[d_number][1]\n",
    "line_thickness=size[d_number][2]\n",
    "#黒背景画像の用意\n",
    "img = np.zeros(shape=(length,width,3),dtype=np.int16)\n",
    "# 関節毎の描画色\n",
    "colors = [(255.,     0.,    85.), (255.,     0.,     0.), (255.,    85.,     0.), \n",
    "          (255.,   170.,     0.), (255.,   255.,     0.), (170.,   255.,     0.), \n",
    "          (85.,   255.,     0.), (0.,   255.,     0.), (255.,   0.,    0.), \n",
    "          (0.,   255.,   85.), (0.,   255.,   170.), (0.,   255.,   255.), \n",
    "          (0.,    170.,   255.), (0.,     85.,   255.), (0.,     0.,   255.), \n",
    "          (255.,     0.,   170.), (170.,     0.,   255.), (255.,     0.,   255.),\n",
    "          (85.,0.,255.),(0.,0.,255.),(0.,0.,255.),(0.,0.,255.),\n",
    "          (0.,255.,255.),(0.,255.,255.),(0.,255.,255.)]\n",
    "#関節ごとの組み合わせ\n",
    "pairs=[(1,8),(1,2),(1,5), \n",
    "       (2,3),(3,4),(5,6), \n",
    "       (6,7),(8,9),(9,10), \n",
    "       (10,11),(8,12), (12,13), \n",
    "       (13,14),(1,0),(0,15), \n",
    "       (15,17),(0,16), (16,18), \n",
    "       (14,19),(19,20),(14,21), \n",
    "       (11,22),(22,23),(11,24)]\n",
    "# 検出された全員について\n",
    "for d in data['people']:\n",
    "     kpt = np.array(d['pose_keypoints_2d']).reshape((25, 3))\n",
    "    #*すべての関節の組み合わせに対しループ\n",
    "     for p in pairs:\n",
    "         pt1 = tuple(list(map(int, kpt[p[0], 0:2])))\n",
    "         c1 = kpt[p[0], 2]\n",
    "         pt2 = tuple(list(map(int, kpt[p[1], 0:2])))\n",
    "         c2 = kpt[p[1], 2]\n",
    "         #信頼度0.0の関節は無視\n",
    "         if c1 == 0.0 or c2 == 0.0:\n",
    "             continue\n",
    "         # 関節の描画\n",
    "         color = tuple(list(map(int, colors[p[0]])))\n",
    "         img = cv2.line(img, pt1, pt2, color,line_thickness)\n",
    "plt.imshow(img)  "
   ]
  }
 ],
 "metadata": {
  "kernelspec": {
   "display_name": "Python 3",
   "language": "python",
   "name": "python3"
  },
  "language_info": {
   "codemirror_mode": {
    "name": "ipython",
    "version": 3
   },
   "file_extension": ".py",
   "mimetype": "text/x-python",
   "name": "python",
   "nbconvert_exporter": "python",
   "pygments_lexer": "ipython3",
   "version": "3.7.6"
  }
 },
 "nbformat": 4,
 "nbformat_minor": 2
}
